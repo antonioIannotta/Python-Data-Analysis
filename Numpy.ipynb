{
 "cells": [
  {
   "cell_type": "code",
   "execution_count": 1,
   "metadata": {},
   "outputs": [],
   "source": [
    "import numpy as np"
   ]
  },
  {
   "cell_type": "code",
   "execution_count": 2,
   "metadata": {},
   "outputs": [
    {
     "name": "stdout",
     "output_type": "stream",
     "text": [
      "Array: [6.  7.5 8.  0.  1. ]\n"
     ]
    },
    {
     "data": {
      "text/plain": [
       "dtype('float64')"
      ]
     },
     "execution_count": 2,
     "metadata": {},
     "output_type": "execute_result"
    }
   ],
   "source": [
    "data = [6, 7.5, 8, 0, 1]\n",
    "array_1 = np.array(data)\n",
    "\n",
    "print(\"Array: \" + str(array_1))\n",
    "array_1.dtype"
   ]
  },
  {
   "cell_type": "code",
   "execution_count": 3,
   "metadata": {},
   "outputs": [
    {
     "name": "stdout",
     "output_type": "stream",
     "text": [
      "Array dimensions: 2\n",
      "Array shape: (2, 5)\n",
      "Rows: 2\n",
      "Columns: 5\n",
      "Type: int32\n"
     ]
    }
   ],
   "source": [
    "data_2 = [[1, 2, 3, 4, 5], [6, 7, 8, 9, 10]]\n",
    "array_2 = np.array(data_2)\n",
    "\n",
    "array_2\n",
    "print(\"Array dimensions: \" + str(array_2.ndim))\n",
    "print(\"Array shape: \" + str(array_2.shape))\n",
    "print(\"Rows: \" + str(array_2.shape[0]))\n",
    "print(\"Columns: \" + str(array_2.shape[1]))\n",
    "print(\"Type: \" + str(array_2.dtype))"
   ]
  },
  {
   "cell_type": "code",
   "execution_count": 4,
   "metadata": {},
   "outputs": [
    {
     "name": "stdout",
     "output_type": "stream",
     "text": [
      "Array of zeros: [0. 0. 0. 0. 0. 0. 0. 0. 0. 0.]\n",
      "Matrix of zeros: [[0. 0. 0.]\n",
      " [0. 0. 0.]]\n",
      "Rows: 2\n",
      "Columns: 3\n"
     ]
    }
   ],
   "source": [
    "zero_array = np.zeros(10)\n",
    "print(\"Array of zeros: \" + str(zero_array))\n",
    "\n",
    "zero_matrix = np.zeros((2, 3))\n",
    "print(\"Matrix of zeros: \" + str(zero_matrix))\n",
    "print(\"Rows: \" + str(zero_matrix.shape[0]))\n",
    "print(\"Columns: \" + str(zero_matrix.shape[1]))"
   ]
  },
  {
   "cell_type": "code",
   "execution_count": 5,
   "metadata": {},
   "outputs": [
    {
     "name": "stdout",
     "output_type": "stream",
     "text": [
      "Array in a range: [ 0  1  2  3  4  5  6  7  8  9 10 11 12 13 14]\n"
     ]
    }
   ],
   "source": [
    "range_array = np.arange(15)\n",
    "print(\"Array in a range: \" + str(range_array))"
   ]
  },
  {
   "cell_type": "code",
   "execution_count": 6,
   "metadata": {},
   "outputs": [
    {
     "name": "stdout",
     "output_type": "stream",
     "text": [
      "String array of numbers: ['1' '2.5' '3' '5.6']\n",
      "Numeric array from string: [1.  2.5 3.  5.6]\n"
     ]
    }
   ],
   "source": [
    "int_array = np.array([1, 2, 3, 4, 5])\n",
    "float_array = int_array.astype(np.float64)\n",
    "string_array_of_numbers = np.array(['1', '2.5', '3', '5.6'])\n",
    "print(\"String array of numbers: \" + str(string_array_of_numbers))\n",
    "string_to_number_array = string_array_of_numbers.astype(np.float64)\n",
    "print(\"Numeric array from string: \" + str(string_to_number_array))"
   ]
  },
  {
   "cell_type": "code",
   "execution_count": 7,
   "metadata": {},
   "outputs": [
    {
     "name": "stdout",
     "output_type": "stream",
     "text": [
      "Sum: [[ 2  4  6]\n",
      " [ 8 10 12]]\n",
      "Diff: [[0 0 0]\n",
      " [0 0 0]]\n",
      "Mult: [[ 1  4  9]\n",
      " [16 25 36]]\n",
      "Div: [[1. 1. 1.]\n",
      " [1. 1. 1.]]\n"
     ]
    }
   ],
   "source": [
    "op_array = np.array([[1, 2, 3], [4, 5, 6]])\n",
    "print(\"Sum: \" + str(op_array + op_array))\n",
    "print(\"Diff: \" + str(op_array - op_array))\n",
    "print(\"Mult: \" + str(op_array * op_array))\n",
    "print(\"Div: \" + str(op_array / op_array))"
   ]
  },
  {
   "cell_type": "code",
   "execution_count": 8,
   "metadata": {},
   "outputs": [
    {
     "name": "stdout",
     "output_type": "stream",
     "text": [
      "Array: [0 1 2 3 4 5 6 7 8 9]\n"
     ]
    },
    {
     "data": {
      "text/plain": [
       "array([   0,    1,    2,    3,    4,    5, 1234,    7,    8,    9])"
      ]
     },
     "execution_count": 8,
     "metadata": {},
     "output_type": "execute_result"
    }
   ],
   "source": [
    "indexing_array = np.arange(10)\n",
    "print(\"Array: \" + str(indexing_array))\n",
    "indexing_array[5]\n",
    "indexing_array[5:8]\n",
    "arr_slice = indexing_array[5:8]\n",
    "arr_slice[1] = 1234\n",
    "indexing_array"
   ]
  },
  {
   "cell_type": "code",
   "execution_count": 9,
   "metadata": {},
   "outputs": [
    {
     "data": {
      "text/plain": [
       "array([[0, 2, 3],\n",
       "       [0, 5, 6],\n",
       "       [0, 8, 9]])"
      ]
     },
     "execution_count": 9,
     "metadata": {},
     "output_type": "execute_result"
    }
   ],
   "source": [
    "array_2d = np.array([[1, 2, 3], [4 ,5 ,6], [7, 8, 9]])\n",
    "array_2d[1]\n",
    "array_2d[0, 2]\n",
    "array_2d[1:, 1:]\n",
    "array_2d[:, 0] = 0\n",
    "array_2d"
   ]
  },
  {
   "cell_type": "code",
   "execution_count": 10,
   "metadata": {},
   "outputs": [
    {
     "data": {
      "text/plain": [
       "array([ True, False,  True,  True,  True,  True,  True,  True])"
      ]
     },
     "execution_count": 10,
     "metadata": {},
     "output_type": "execute_result"
    }
   ],
   "source": [
    "names = np.array([\"Antonio\", \"Mike\", \"Heisenberg\", \"Elliot\", \"Charles\", \"Carlos\", \"Lewis\", \"Max\"])\n",
    "boolean_array = (names == \"Mike\")\n",
    "boolean_array\n",
    "boolean_array_opposite = (names != \"Mike\")\n",
    "boolean_array_opposite"
   ]
  },
  {
   "cell_type": "code",
   "execution_count": 11,
   "metadata": {},
   "outputs": [
    {
     "data": {
      "text/plain": [
       "array([1.54581507, 1.59113842, 1.04529972, 0.41096417, 1.25875399,\n",
       "       0.06595151, 0.68690363, 0.43132957, 0.80932311, 2.94205804,\n",
       "       0.96202728, 1.51756004, 1.28297307, 0.06577895, 0.03374607,\n",
       "       0.82601361, 0.21242896])"
      ]
     },
     "execution_count": 11,
     "metadata": {},
     "output_type": "execute_result"
    }
   ],
   "source": [
    "random_data = np.random.randn(7, 4)\n",
    "random_data\n",
    "random_data[random_data > 0]"
   ]
  },
  {
   "cell_type": "code",
   "execution_count": 12,
   "metadata": {},
   "outputs": [
    {
     "data": {
      "text/plain": [
       "array([[0., 0., 0., 0.],\n",
       "       [1., 1., 1., 1.],\n",
       "       [2., 2., 2., 2.],\n",
       "       [3., 3., 3., 3.],\n",
       "       [4., 4., 4., 4.],\n",
       "       [5., 5., 5., 5.],\n",
       "       [6., 6., 6., 6.],\n",
       "       [7., 7., 7., 7.]])"
      ]
     },
     "execution_count": 12,
     "metadata": {},
     "output_type": "execute_result"
    }
   ],
   "source": [
    "fancy_array = np.empty((8, 4))\n",
    "for i in range(fancy_array.shape[0]):\n",
    "    fancy_array[i] = i\n",
    "    \n",
    "fancy_array"
   ]
  },
  {
   "cell_type": "code",
   "execution_count": 13,
   "metadata": {},
   "outputs": [
    {
     "data": {
      "text/plain": [
       "array([[ 0,  5, 10],\n",
       "       [ 1,  6, 11],\n",
       "       [ 2,  7, 12],\n",
       "       [ 3,  8, 13],\n",
       "       [ 4,  9, 14]])"
      ]
     },
     "execution_count": 13,
     "metadata": {},
     "output_type": "execute_result"
    }
   ],
   "source": [
    "transpose_array = np.arange(15).reshape(3, 5)\n",
    "transpose_array\n",
    "transpose_array.T"
   ]
  },
  {
   "cell_type": "code",
   "execution_count": 14,
   "metadata": {},
   "outputs": [
    {
     "data": {
      "text/plain": [
       "array([[0.        , 1.        , 1.41421356, 1.73205081, 2.        ],\n",
       "       [2.23606798, 2.44948974, 2.64575131, 2.82842712, 3.        ]])"
      ]
     },
     "execution_count": 14,
     "metadata": {},
     "output_type": "execute_result"
    }
   ],
   "source": [
    "array_for_functions = np.arange(10).reshape(2, 5)\n",
    "array_for_functions\n",
    "np.sqrt(array_for_functions)"
   ]
  },
  {
   "cell_type": "code",
   "execution_count": 15,
   "metadata": {},
   "outputs": [
    {
     "data": {
      "text/plain": [
       "array([0.67909873, 0.86811384, 1.26586334, 1.73980427, 0.27987485,\n",
       "       2.33869015, 0.46013674, 1.44046933, 0.78183827, 1.17358249])"
      ]
     },
     "execution_count": 15,
     "metadata": {},
     "output_type": "execute_result"
    }
   ],
   "source": [
    "array_one = np.random.randn(10)\n",
    "array_two = np.random.randn(10)\n",
    "np.maximum(array_one, array_two)"
   ]
  },
  {
   "cell_type": "code",
   "execution_count": 16,
   "metadata": {},
   "outputs": [
    {
     "data": {
      "text/plain": [
       "array([[ 2,  2, -2, -2],\n",
       "       [-2, -2, -2, -2],\n",
       "       [-2,  2, -2,  2],\n",
       "       [-2, -2, -2,  2]])"
      ]
     },
     "execution_count": 16,
     "metadata": {},
     "output_type": "execute_result"
    }
   ],
   "source": [
    "arr = np.random.randn(4, 4)\n",
    "np.where(arr > 0, 2, -2)"
   ]
  },
  {
   "cell_type": "code",
   "execution_count": 22,
   "metadata": {},
   "outputs": [
    {
     "data": {
      "text/plain": [
       "array([-0.13353412,  0.33769235,  0.16911039, -0.57209876])"
      ]
     },
     "execution_count": 22,
     "metadata": {},
     "output_type": "execute_result"
    }
   ],
   "source": [
    "arr = np.random.randn(5, 4)\n",
    "arr.mean()\n",
    "arr.mean(axis=1)\n",
    "arr.mean(axis=0)"
   ]
  },
  {
   "cell_type": "code",
   "execution_count": 23,
   "metadata": {},
   "outputs": [
    {
     "data": {
      "text/plain": [
       "47"
      ]
     },
     "execution_count": 23,
     "metadata": {},
     "output_type": "execute_result"
    }
   ],
   "source": [
    "arr = np.random.randn(100)\n",
    "(arr > 0).sum()"
   ]
  },
  {
   "cell_type": "code",
   "execution_count": 25,
   "metadata": {},
   "outputs": [
    {
     "data": {
      "text/plain": [
       "False"
      ]
     },
     "execution_count": 25,
     "metadata": {},
     "output_type": "execute_result"
    }
   ],
   "source": [
    "bools = np.array([True, False, False, True, True])\n",
    "bools.any()\n",
    "bools.all()"
   ]
  },
  {
   "cell_type": "code",
   "execution_count": 27,
   "metadata": {},
   "outputs": [
    {
     "data": {
      "text/plain": [
       "array([-0.96264179, -0.65496975, -0.31628753, -0.23806805,  0.06039596,\n",
       "        0.13529791,  0.89831343,  2.27734817])"
      ]
     },
     "execution_count": 27,
     "metadata": {},
     "output_type": "execute_result"
    }
   ],
   "source": [
    "arr = np.random.randn(8)\n",
    "arr.sort()\n",
    "arr"
   ]
  },
  {
   "cell_type": "code",
   "execution_count": 30,
   "metadata": {},
   "outputs": [
    {
     "data": {
      "text/plain": [
       "array([[-0.55490256, -0.43445468, -0.41334208, -0.01180592,  0.07401781,\n",
       "         0.70926806,  0.80946918,  1.11949535],\n",
       "       [-2.03972767, -0.99237611, -0.39824306, -0.28862562, -0.23544095,\n",
       "        -0.2092554 ,  0.75841362,  0.8929185 ],\n",
       "       [-0.60618819,  0.04243707,  0.11066474,  0.18015686,  0.27850505,\n",
       "         0.62536078,  1.62385658,  1.8780634 ]])"
      ]
     },
     "execution_count": 30,
     "metadata": {},
     "output_type": "execute_result"
    }
   ],
   "source": [
    "arr = np.random.randn(3, 8)\n",
    "arr.sort(1)\n",
    "arr"
   ]
  },
  {
   "cell_type": "code",
   "execution_count": 33,
   "metadata": {},
   "outputs": [
    {
     "data": {
      "text/plain": [
       "array(['George', 'Lewis', 'Max'], dtype='<U6')"
      ]
     },
     "execution_count": 33,
     "metadata": {},
     "output_type": "execute_result"
    }
   ],
   "source": [
    "names = np.array([\"Lewis\", \"Max\", \"George\", \"Max\", \"Lewis\"])\n",
    "unique_names = np.unique(names)\n",
    "unique_names"
   ]
  }
 ],
 "metadata": {
  "kernelspec": {
   "display_name": "Python 3.10.8 64-bit (microsoft store)",
   "language": "python",
   "name": "python3"
  },
  "language_info": {
   "codemirror_mode": {
    "name": "ipython",
    "version": 3
   },
   "file_extension": ".py",
   "mimetype": "text/x-python",
   "name": "python",
   "nbconvert_exporter": "python",
   "pygments_lexer": "ipython3",
   "version": "3.10.8"
  },
  "orig_nbformat": 4,
  "vscode": {
   "interpreter": {
    "hash": "dc9198d752fabc74015ca3ce8d5de7530466fab88e0eb7c14aeb98fcedbad7af"
   }
  }
 },
 "nbformat": 4,
 "nbformat_minor": 2
}
