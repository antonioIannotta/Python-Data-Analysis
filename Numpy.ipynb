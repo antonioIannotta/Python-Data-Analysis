{
 "cells": [
  {
   "cell_type": "code",
   "execution_count": 1,
   "metadata": {},
   "outputs": [],
   "source": [
    "import numpy as np"
   ]
  },
  {
   "cell_type": "code",
   "execution_count": 11,
   "metadata": {},
   "outputs": [
    {
     "name": "stdout",
     "output_type": "stream",
     "text": [
      "Array: [6.  7.5 8.  0.  1. ]\n"
     ]
    },
    {
     "data": {
      "text/plain": [
       "dtype('float64')"
      ]
     },
     "execution_count": 11,
     "metadata": {},
     "output_type": "execute_result"
    }
   ],
   "source": [
    "data = [6, 7.5, 8, 0, 1]\n",
    "array_1 = np.array(data)\n",
    "\n",
    "print(\"Array: \" + str(array_1))\n",
    "array_1.dtype"
   ]
  },
  {
   "cell_type": "code",
   "execution_count": 13,
   "metadata": {},
   "outputs": [
    {
     "name": "stdout",
     "output_type": "stream",
     "text": [
      "Array dimensions: 2\n",
      "Array shape: (2, 5)\n",
      "Rows: 2\n",
      "Columns: 5\n",
      "Type: int32\n"
     ]
    }
   ],
   "source": [
    "data_2 = [[1, 2, 3, 4, 5], [6, 7, 8, 9, 10]]\n",
    "array_2 = np.array(data_2)\n",
    "\n",
    "array_2\n",
    "print(\"Array dimensions: \" + str(array_2.ndim))\n",
    "print(\"Array shape: \" + str(array_2.shape))\n",
    "print(\"Rows: \" + str(array_2.shape[0]))\n",
    "print(\"Columns: \" + str(array_2.shape[1]))\n",
    "print(\"Type: \" + str(array_2.dtype))"
   ]
  },
  {
   "cell_type": "code",
   "execution_count": 18,
   "metadata": {},
   "outputs": [
    {
     "name": "stdout",
     "output_type": "stream",
     "text": [
      "Array of zeros: [0. 0. 0. 0. 0. 0. 0. 0. 0. 0.]\n",
      "Matrix of zeros: [[0. 0. 0.]\n",
      " [0. 0. 0.]]\n",
      "Rows: 2\n",
      "Columns: 3\n"
     ]
    }
   ],
   "source": [
    "zero_array = np.zeros(10)\n",
    "print(\"Array of zeros: \" + str(zero_array))\n",
    "\n",
    "zero_matrix = np.zeros((2, 3))\n",
    "print(\"Matrix of zeros: \" + str(zero_matrix))\n",
    "print(\"Rows: \" + str(zero_matrix.shape[0]))\n",
    "print(\"Columns: \" + str(zero_matrix.shape[1]))"
   ]
  },
  {
   "cell_type": "code",
   "execution_count": 19,
   "metadata": {},
   "outputs": [
    {
     "name": "stdout",
     "output_type": "stream",
     "text": [
      "Array in a range: [ 0  1  2  3  4  5  6  7  8  9 10 11 12 13 14]\n"
     ]
    }
   ],
   "source": [
    "range_array = np.arange(15)\n",
    "print(\"Array in a range: \" + str(range_array))"
   ]
  },
  {
   "cell_type": "code",
   "execution_count": 21,
   "metadata": {},
   "outputs": [
    {
     "name": "stdout",
     "output_type": "stream",
     "text": [
      "String array of numbers: ['1' '2.5' '3' '5.6']\n",
      "Numeric array from string: [1.  2.5 3.  5.6]\n"
     ]
    }
   ],
   "source": [
    "int_array = np.array([1, 2, 3, 4, 5])\n",
    "float_array = int_array.astype(np.float64)\n",
    "string_array_of_numbers = np.array(['1', '2.5', '3', '5.6'])\n",
    "print(\"String array of numbers: \" + str(string_array_of_numbers))\n",
    "string_to_number_array = string_array_of_numbers.astype(np.float64)\n",
    "print(\"Numeric array from string: \" + str(string_to_number_array))"
   ]
  },
  {
   "cell_type": "code",
   "execution_count": 22,
   "metadata": {},
   "outputs": [
    {
     "name": "stdout",
     "output_type": "stream",
     "text": [
      "Sum: [[ 2  4  6]\n",
      " [ 8 10 12]]\n",
      "Diff: [[0 0 0]\n",
      " [0 0 0]]\n",
      "Mult: [[ 1  4  9]\n",
      " [16 25 36]]\n",
      "Div: [[1. 1. 1.]\n",
      " [1. 1. 1.]]\n"
     ]
    }
   ],
   "source": [
    "op_array = np.array([[1, 2, 3], [4, 5, 6]])\n",
    "print(\"Sum: \" + str(op_array + op_array))\n",
    "print(\"Diff: \" + str(op_array - op_array))\n",
    "print(\"Mult: \" + str(op_array * op_array))\n",
    "print(\"Div: \" + str(op_array / op_array))"
   ]
  },
  {
   "cell_type": "code",
   "execution_count": 29,
   "metadata": {},
   "outputs": [
    {
     "name": "stdout",
     "output_type": "stream",
     "text": [
      "Array: [0 1 2 3 4 5 6 7 8 9]\n"
     ]
    },
    {
     "data": {
      "text/plain": [
       "array([   0,    1,    2,    3,    4,    5, 1234,    7,    8,    9])"
      ]
     },
     "execution_count": 29,
     "metadata": {},
     "output_type": "execute_result"
    }
   ],
   "source": [
    "indexing_array = np.arange(10)\n",
    "print(\"Array: \" + str(indexing_array))\n",
    "indexing_array[5]\n",
    "indexing_array[5:8]\n",
    "arr_slice = indexing_array[5:8]\n",
    "arr_slice[1] = 1234\n",
    "indexing_array"
   ]
  },
  {
   "cell_type": "code",
   "execution_count": 44,
   "metadata": {},
   "outputs": [
    {
     "data": {
      "text/plain": [
       "array([[0, 2, 3],\n",
       "       [0, 5, 6],\n",
       "       [0, 8, 9]])"
      ]
     },
     "execution_count": 44,
     "metadata": {},
     "output_type": "execute_result"
    }
   ],
   "source": [
    "array_2d = np.array([[1, 2, 3], [4 ,5 ,6], [7, 8, 9]])\n",
    "array_2d[1]\n",
    "array_2d[0, 2]\n",
    "array_2d[1:, 1:]\n",
    "array_2d[:, 0] = 0\n",
    "array_2d"
   ]
  },
  {
   "cell_type": "code",
   "execution_count": 47,
   "metadata": {},
   "outputs": [
    {
     "data": {
      "text/plain": [
       "array([ True, False,  True,  True,  True,  True,  True,  True])"
      ]
     },
     "execution_count": 47,
     "metadata": {},
     "output_type": "execute_result"
    }
   ],
   "source": [
    "names = np.array([\"Antonio\", \"Mike\", \"Heisenberg\", \"Elliot\", \"Charles\", \"Carlos\", \"Lewis\", \"Max\"])\n",
    "boolean_array = (names == \"Mike\")\n",
    "boolean_array\n",
    "boolean_array_opposite = (names != \"Mike\")\n",
    "boolean_array_opposite"
   ]
  },
  {
   "cell_type": "code",
   "execution_count": 53,
   "metadata": {},
   "outputs": [
    {
     "data": {
      "text/plain": [
       "array([0.24170359, 0.13795452, 0.55834472, 0.31758513, 0.07115818,\n",
       "       0.15641107, 0.31554921, 0.88855433, 1.29829164, 1.0672205 ,\n",
       "       0.6135144 , 0.16775058, 0.76739817, 1.91145099])"
      ]
     },
     "execution_count": 53,
     "metadata": {},
     "output_type": "execute_result"
    }
   ],
   "source": [
    "random_data = np.random.randn(7, 4)\n",
    "random_data\n",
    "random_data[random_data > 0]"
   ]
  },
  {
   "cell_type": "code",
   "execution_count": 54,
   "metadata": {},
   "outputs": [
    {
     "data": {
      "text/plain": [
       "array([[0., 0., 0., 0.],\n",
       "       [1., 1., 1., 1.],\n",
       "       [2., 2., 2., 2.],\n",
       "       [3., 3., 3., 3.],\n",
       "       [4., 4., 4., 4.],\n",
       "       [5., 5., 5., 5.],\n",
       "       [6., 6., 6., 6.],\n",
       "       [7., 7., 7., 7.]])"
      ]
     },
     "execution_count": 54,
     "metadata": {},
     "output_type": "execute_result"
    }
   ],
   "source": [
    "fancy_array = np.empty((8, 4))\n",
    "for i in range(fancy_array.shape[0]):\n",
    "    fancy_array[i] = i\n",
    "    \n",
    "fancy_array"
   ]
  },
  {
   "cell_type": "code",
   "execution_count": 56,
   "metadata": {},
   "outputs": [
    {
     "data": {
      "text/plain": [
       "array([[ 0,  5, 10],\n",
       "       [ 1,  6, 11],\n",
       "       [ 2,  7, 12],\n",
       "       [ 3,  8, 13],\n",
       "       [ 4,  9, 14]])"
      ]
     },
     "execution_count": 56,
     "metadata": {},
     "output_type": "execute_result"
    }
   ],
   "source": [
    "transpose_array = np.arange(15).reshape(3, 5)\n",
    "transpose_array\n",
    "transpose_array.T"
   ]
  },
  {
   "cell_type": "code",
   "execution_count": 59,
   "metadata": {},
   "outputs": [
    {
     "ename": "TypeError",
     "evalue": "maximum() takes from 2 to 3 positional arguments but 1 were given",
     "output_type": "error",
     "traceback": [
      "\u001b[1;31m---------------------------------------------------------------------------\u001b[0m",
      "\u001b[1;31mTypeError\u001b[0m                                 Traceback (most recent call last)",
      "Cell \u001b[1;32mIn [59], line 4\u001b[0m\n\u001b[0;32m      2\u001b[0m array_for_functions\n\u001b[0;32m      3\u001b[0m np\u001b[39m.\u001b[39msqrt(array_for_functions)\n\u001b[1;32m----> 4\u001b[0m np\u001b[39m.\u001b[39;49mmaximum(array_for_functions)\n",
      "\u001b[1;31mTypeError\u001b[0m: maximum() takes from 2 to 3 positional arguments but 1 were given"
     ]
    }
   ],
   "source": [
    "array_for_functions = np.arange(10).reshape(2, 5)\n",
    "array_for_functions\n",
    "np.sqrt(array_for_functions)"
   ]
  },
  {
   "cell_type": "code",
   "execution_count": 60,
   "metadata": {},
   "outputs": [
    {
     "data": {
      "text/plain": [
       "array([ 0.46928558,  0.0358087 , -0.59292108,  0.98413939,  1.41901455,\n",
       "       -0.47650927, -0.20663662,  1.77228068,  0.71125348,  0.59087306])"
      ]
     },
     "execution_count": 60,
     "metadata": {},
     "output_type": "execute_result"
    }
   ],
   "source": [
    "array_one = np.random.randn(10)\n",
    "array_two = np.random.randn(10)\n",
    "np.maximum(array_one, array_two)"
   ]
  }
 ],
 "metadata": {
  "kernelspec": {
   "display_name": "Python 3.10.8 64-bit (microsoft store)",
   "language": "python",
   "name": "python3"
  },
  "language_info": {
   "codemirror_mode": {
    "name": "ipython",
    "version": 3
   },
   "file_extension": ".py",
   "mimetype": "text/x-python",
   "name": "python",
   "nbconvert_exporter": "python",
   "pygments_lexer": "ipython3",
   "version": "3.10.8"
  },
  "orig_nbformat": 4,
  "vscode": {
   "interpreter": {
    "hash": "dc9198d752fabc74015ca3ce8d5de7530466fab88e0eb7c14aeb98fcedbad7af"
   }
  }
 },
 "nbformat": 4,
 "nbformat_minor": 2
}
